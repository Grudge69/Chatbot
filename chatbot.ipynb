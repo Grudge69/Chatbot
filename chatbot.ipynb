{
  "nbformat": 4,
  "nbformat_minor": 0,
  "metadata": {
    "colab": {
      "name": "chatbot",
      "provenance": [],
      "authorship_tag": "ABX9TyOdm09oqNyB+pmCCpzzQu7H",
      "include_colab_link": true
    },
    "kernelspec": {
      "name": "python3",
      "display_name": "Python 3"
    }
  },
  "cells": [
    {
      "cell_type": "markdown",
      "metadata": {
        "id": "view-in-github",
        "colab_type": "text"
      },
      "source": [
        "<a href=\"https://colab.research.google.com/github/Grudge69/Chatbot/blob/master/chatbot.ipynb\" target=\"_parent\"><img src=\"https://colab.research.google.com/assets/colab-badge.svg\" alt=\"Open In Colab\"/></a>"
      ]
    },
    {
      "cell_type": "code",
      "metadata": {
        "id": "qTpHxltMH8u1",
        "colab_type": "code",
        "colab": {}
      },
      "source": [
        "#self learn chatbot\n"
      ],
      "execution_count": 0,
      "outputs": []
    },
    {
      "cell_type": "code",
      "metadata": {
        "id": "hQsWJijQH_mS",
        "colab_type": "code",
        "outputId": "c240cc41-f632-479f-9d78-cb0518c0ab60",
        "colab": {
          "base_uri": "https://localhost:8080/",
          "height": 51
        }
      },
      "source": [
        "#install nltk\n",
        "pip install nltk"
      ],
      "execution_count": 0,
      "outputs": [
        {
          "output_type": "stream",
          "text": [
            "Requirement already satisfied: nltk in /usr/local/lib/python3.6/dist-packages (3.2.5)\n",
            "Requirement already satisfied: six in /usr/local/lib/python3.6/dist-packages (from nltk) (1.12.0)\n"
          ],
          "name": "stdout"
        }
      ]
    },
    {
      "cell_type": "code",
      "metadata": {
        "id": "2fVmukiCIOiQ",
        "colab_type": "code",
        "outputId": "1b16995d-da84-4cfb-ef5a-2fd1a06a2086",
        "colab": {
          "base_uri": "https://localhost:8080/",
          "height": 394
        }
      },
      "source": [
        "#install package newspaper3k\n",
        "pip install newspaper3k"
      ],
      "execution_count": 0,
      "outputs": [
        {
          "output_type": "stream",
          "text": [
            "Requirement already satisfied: newspaper3k in /usr/local/lib/python3.6/dist-packages (0.2.8)\n",
            "Requirement already satisfied: PyYAML>=3.11 in /usr/local/lib/python3.6/dist-packages (from newspaper3k) (3.13)\n",
            "Requirement already satisfied: lxml>=3.6.0 in /usr/local/lib/python3.6/dist-packages (from newspaper3k) (4.2.6)\n",
            "Requirement already satisfied: Pillow>=3.3.0 in /usr/local/lib/python3.6/dist-packages (from newspaper3k) (7.0.0)\n",
            "Requirement already satisfied: nltk>=3.2.1 in /usr/local/lib/python3.6/dist-packages (from newspaper3k) (3.2.5)\n",
            "Requirement already satisfied: feedfinder2>=0.0.4 in /usr/local/lib/python3.6/dist-packages (from newspaper3k) (0.0.4)\n",
            "Requirement already satisfied: cssselect>=0.9.2 in /usr/local/lib/python3.6/dist-packages (from newspaper3k) (1.1.0)\n",
            "Requirement already satisfied: jieba3k>=0.35.1 in /usr/local/lib/python3.6/dist-packages (from newspaper3k) (0.35.1)\n",
            "Requirement already satisfied: tldextract>=2.0.1 in /usr/local/lib/python3.6/dist-packages (from newspaper3k) (2.2.2)\n",
            "Requirement already satisfied: requests>=2.10.0 in /usr/local/lib/python3.6/dist-packages (from newspaper3k) (2.23.0)\n",
            "Requirement already satisfied: tinysegmenter==0.3 in /usr/local/lib/python3.6/dist-packages (from newspaper3k) (0.3)\n",
            "Requirement already satisfied: beautifulsoup4>=4.4.1 in /usr/local/lib/python3.6/dist-packages (from newspaper3k) (4.6.3)\n",
            "Requirement already satisfied: feedparser>=5.2.1 in /usr/local/lib/python3.6/dist-packages (from newspaper3k) (5.2.1)\n",
            "Requirement already satisfied: python-dateutil>=2.5.3 in /usr/local/lib/python3.6/dist-packages (from newspaper3k) (2.8.1)\n",
            "Requirement already satisfied: six in /usr/local/lib/python3.6/dist-packages (from nltk>=3.2.1->newspaper3k) (1.12.0)\n",
            "Requirement already satisfied: requests-file>=1.4 in /usr/local/lib/python3.6/dist-packages (from tldextract>=2.0.1->newspaper3k) (1.5.1)\n",
            "Requirement already satisfied: setuptools in /usr/local/lib/python3.6/dist-packages (from tldextract>=2.0.1->newspaper3k) (46.1.3)\n",
            "Requirement already satisfied: idna in /usr/local/lib/python3.6/dist-packages (from tldextract>=2.0.1->newspaper3k) (2.9)\n",
            "Requirement already satisfied: urllib3!=1.25.0,!=1.25.1,<1.26,>=1.21.1 in /usr/local/lib/python3.6/dist-packages (from requests>=2.10.0->newspaper3k) (1.24.3)\n",
            "Requirement already satisfied: chardet<4,>=3.0.2 in /usr/local/lib/python3.6/dist-packages (from requests>=2.10.0->newspaper3k) (3.0.4)\n",
            "Requirement already satisfied: certifi>=2017.4.17 in /usr/local/lib/python3.6/dist-packages (from requests>=2.10.0->newspaper3k) (2020.4.5.1)\n"
          ],
          "name": "stdout"
        }
      ]
    },
    {
      "cell_type": "code",
      "metadata": {
        "id": "y9TGvVZaKPUf",
        "colab_type": "code",
        "colab": {}
      },
      "source": [
        "#Import libraries\n",
        "from newspaper import Article\n",
        "import random\n",
        "import string\n",
        "from sklearn.feature_extraction.text import TfidfVectorizer\n",
        "from sklearn.metrics.pairwise import cosine_similarity\n",
        "import nltk\n",
        "import numpy as np\n",
        "import warnings"
      ],
      "execution_count": 0,
      "outputs": []
    },
    {
      "cell_type": "code",
      "metadata": {
        "id": "bakVmHHkLAjh",
        "colab_type": "code",
        "colab": {}
      },
      "source": [
        "#Ignore any warning messages\n",
        "warnings.filterwarnings('ignore')"
      ],
      "execution_count": 0,
      "outputs": []
    },
    {
      "cell_type": "code",
      "metadata": {
        "id": "8FPYp1KfLhuj",
        "colab_type": "code",
        "outputId": "9dbbc5e9-dd91-47b8-c5c3-a67da3291bf4",
        "colab": {
          "base_uri": "https://localhost:8080/",
          "height": 34
        }
      },
      "source": [
        "#Download the packages from NLTK\n",
        "nltk.download('punkt',quiet=True)\n",
        "nltk.download('wordnet',quiet=True)"
      ],
      "execution_count": 0,
      "outputs": [
        {
          "output_type": "execute_result",
          "data": {
            "text/plain": [
              "True"
            ]
          },
          "metadata": {
            "tags": []
          },
          "execution_count": 12
        }
      ]
    },
    {
      "cell_type": "code",
      "metadata": {
        "id": "kRh7XiDQMQ9X",
        "colab_type": "code",
        "outputId": "036a5454-5cf7-4a69-aea9-29d51ac1245c",
        "colab": {
          "base_uri": "https://localhost:8080/",
          "height": 1000
        }
      },
      "source": [
        "#Get the article url\n",
        "article = Article('https://en.unesco.org/covid19/educationresponse/solutions')\n",
        "article.download()\n",
        "article.parse()\n",
        "article.nlp()\n",
        "corpus = article.text\n",
        "\n",
        "#Print corpus/text\n",
        "print(corpus)"
      ],
      "execution_count": 0,
      "outputs": [
        {
          "output_type": "stream",
          "text": [
            "The list of educational applications, platforms and resources below aim to help parents, teachers, schools and school administrators facilitate student learning and provide social care and interaction during periods of school closure. Most of the solutions curated are free and many cater to multiple languages. While these solutions do not carry UNESCO’s explicit endorsement, they tend to have a wide reach, a strong user-base and evidence of impact. They are categorized based on distance learning needs, but most of them offer functionalities across multiple categories.\n",
            "\n",
            "\n",
            "\n",
            "Resources to provide psychosocial support\n",
            "\n",
            "Digital learning management systems\n",
            "\n",
            "CenturyTech – Personal learning pathways with micro-lessons to address gaps in knowledge, challenge students and promote long-term memory retention.\n",
            "\n",
            "ClassDojo – Connects teachers with students and parents to build classroom communities.\n",
            "\n",
            "Edmodo – Tools and resources to manage classrooms and engage students remotely, offering a variety of languages.\n",
            "\n",
            "Edraak – Arabic language online education with resources for school learners and teachers.\n",
            "\n",
            "EkStep – Open learning platform with a collection of learning resources to support literacy and numeracy.\n",
            "\n",
            "Google Classroom – Helps classes connect remotely, communicate and stay-organized.\n",
            "\n",
            "Moodle – Community-driven and globally-supported open learning platform.\n",
            "\n",
            "Nafham – Arabic language online learning platform hosting educational video lessons that correspond with Egyptian and Syrian curricula.\n",
            "\n",
            "Paper Airplanes – Matches individuals with personal tutors for 12-16 week sessions conducted via video conferencing platforms, available in English and Turkish.\n",
            "\n",
            "Schoology – Tools to support instruction, learning, grading, collaboration and assessment.\n",
            "\n",
            "Seesaw – Enables the creation of collaborative and sharable digital learning portfolios and learning resources.\n",
            "\n",
            "Skooler – Tools to turn Microsoft Office software into an education platform.\n",
            "\n",
            "Systems built for use on basic mobile phones\n",
            "\n",
            "Cell-Ed – Learner-centered, skills-based learning platform with offline options.\n",
            "\n",
            "Eneza Education - Revision and learning materials for basic feature phones.\n",
            "\n",
            "Funzi – Mobile learning service that supports teaching and training for large groups.\n",
            "\n",
            "KaiOS – Software that gives smartphone capabilities to inexpensive mobile phones and helps open portals to learning opportunities.\n",
            "\n",
            "Ubongo – Uses entertainment, mass media, and the connectivity of mobile devices to deliver localized learning to African families at low cost and scale,available in Kiswahili and English.\n",
            "\n",
            "Ustad Mobile – Access and share educational content offline, available in Kiswahili and English.\n",
            "\n",
            "Systems with strong offline functionality\n",
            "\n",
            "Kolibri – Learning application to support universal education, available in more than 20 languages.\n",
            "\n",
            "Rumie – Education tools and content to enable lifelong learning for underserved communities.\n",
            "\n",
            "Ustad Mobile – Access and share educational content offline.\n",
            "\n",
            "Massive Open Online Course (MOOC) Platforms\n",
            "\n",
            "Alison – Online courses from experts, available in English, French, Spanish, Italian and Portuguese\n",
            "\n",
            "Canvas Network – Course catalogue accessible for free for teachers in order to support lifelong learning and professional development.\n",
            "\n",
            "Coursera – Online courses taught by instructors from well-recognized universities and companies.\n",
            "\n",
            "European Schoolnet Academy – Free online professional development courses for teachers in English, French, Italian and other European languages.\n",
            "\n",
            "EdX – Online courses from leading educational institutions.\n",
            "\n",
            "Future Learn – Online courses to help learners study, build professional skills and connect with experts.\n",
            "\n",
            "Icourses – Chinese language courses for university students.\n",
            "\n",
            "TED-Ed Earth School – Online lessons about nature made available continuously during a 5-week period between Earth Day (April 22nd) and World Environment Day (June 5th).\n",
            "\n",
            "Udemy – English, Spanish and Portuguese language courses on ICT skills and programming.\n",
            "\n",
            "Self-directed learning content\n",
            "\n",
            "Mobile reading applications\n",
            "\n",
            "Collaboration platforms that support live-video communication\n",
            "\n",
            "Dingtalk – Communication platform that supports video conferencing, task and calendar management, attendance tracking and instant messaging.\n",
            "\n",
            "Lark – Collaboration suite of interconnected tools, including chat, calendar, creation and cloud storage, in Japanese, Korean, Italian and English\n",
            "\n",
            "Hangouts Meet – Video calls integrated with other Google’s G-Suite tools.\n",
            "\n",
            "Teams – Chat, meet, call and collaboration features integrated with Microsoft Office software.\n",
            "\n",
            "Skype – Video and audio calls with talk, chat and collaboration features.\n",
            "\n",
            "WhatsApp – Video and audio calls, messaging and content sharing mobile application.\n",
            "\n",
            "Zoom – Cloud platform for video and audio conferencing, collaboration, chat and webinars.\n",
            "\n",
            "Tools for teachers to create of digital learning content\n",
            "\n",
            "Thinglink – Tools to create interactive images, videos and other multimedia resources.\n",
            "\n",
            "Buncee – Supports the creation and sharing visual representations of learning content, including media-rich lessons, reports, newsletters and presentations.\n",
            "\n",
            "EdPuzzle – Video lesson creation software.\n",
            "\n",
            "Kaltura – Video management and creation tools with integration options for various learning management systems.\n",
            "\n",
            "Nearpod – Software to create lessons with informative and interactive assessment activities.\n",
            "\n",
            "Pear Deck – Facilitates the design of engaging instructional content with various integration features.\n",
            "\n",
            "Squigl – Content creation platform that transforms speech or text into animated videos.\n",
            "\n",
            "Trello - A visual collaboration tool used by teachers and professors for easier coursework planning, faculty collaboration, and classroom organization.\n",
            "\n",
            "External repositories of distance learning solutions\n"
          ],
          "name": "stdout"
        }
      ]
    },
    {
      "cell_type": "code",
      "metadata": {
        "id": "hVidUe1QNiUD",
        "colab_type": "code",
        "outputId": "64d39441-e497-4138-832b-8ed7f63f6b63",
        "colab": {
          "base_uri": "https://localhost:8080/",
          "height": 54
        }
      },
      "source": [
        "#Tokenization\n",
        "text = corpus\n",
        "sent_tokens = nltk.sent_tokenize(text) #Convert the text into a list of sentences\n",
        "\n",
        "#Print the list of sentences\n",
        "print(sent_tokens)"
      ],
      "execution_count": 0,
      "outputs": [
        {
          "output_type": "stream",
          "text": [
            "['The list of educational applications, platforms and resources below aim to help parents, teachers, schools and school administrators facilitate student learning and provide social care and interaction during periods of school closure.', 'Most of the solutions curated are free and many cater to multiple languages.', 'While these solutions do not carry UNESCO’s explicit endorsement, they tend to have a wide reach, a strong user-base and evidence of impact.', 'They are categorized based on distance learning needs, but most of them offer functionalities across multiple categories.', 'Resources to provide psychosocial support\\n\\nDigital learning management systems\\n\\nCenturyTech – Personal learning pathways with micro-lessons to address gaps in knowledge, challenge students and promote long-term memory retention.', 'ClassDojo – Connects teachers with students and parents to build classroom communities.', 'Edmodo – Tools and resources to manage classrooms and engage students remotely, offering a variety of languages.', 'Edraak – Arabic language online education with resources for school learners and teachers.', 'EkStep – Open learning platform with a collection of learning resources to support literacy and numeracy.', 'Google Classroom – Helps classes connect remotely, communicate and stay-organized.', 'Moodle – Community-driven and globally-supported open learning platform.', 'Nafham – Arabic language online learning platform hosting educational video lessons that correspond with Egyptian and Syrian curricula.', 'Paper Airplanes – Matches individuals with personal tutors for 12-16 week sessions conducted via video conferencing platforms, available in English and Turkish.', 'Schoology – Tools to support instruction, learning, grading, collaboration and assessment.', 'Seesaw – Enables the creation of collaborative and sharable digital learning portfolios and learning resources.', 'Skooler – Tools to turn Microsoft Office software into an education platform.', 'Systems built for use on basic mobile phones\\n\\nCell-Ed – Learner-centered, skills-based learning platform with offline options.', 'Eneza Education - Revision and learning materials for basic feature phones.', 'Funzi – Mobile learning service that supports teaching and training for large groups.', 'KaiOS – Software that gives smartphone capabilities to inexpensive mobile phones and helps open portals to learning opportunities.', 'Ubongo – Uses entertainment, mass media, and the connectivity of mobile devices to deliver localized learning to African families at low cost and scale,available in Kiswahili and English.', 'Ustad Mobile – Access and share educational content offline, available in Kiswahili and English.', 'Systems with strong offline functionality\\n\\nKolibri – Learning application to support universal education, available in more than 20 languages.', 'Rumie – Education tools and content to enable lifelong learning for underserved communities.', 'Ustad Mobile – Access and share educational content offline.', 'Massive Open Online Course (MOOC) Platforms\\n\\nAlison – Online courses from experts, available in English, French, Spanish, Italian and Portuguese\\n\\nCanvas Network – Course catalogue accessible for free for teachers in order to support lifelong learning and professional development.', 'Coursera – Online courses taught by instructors from well-recognized universities and companies.', 'European Schoolnet Academy – Free online professional development courses for teachers in English, French, Italian and other European languages.', 'EdX – Online courses from leading educational institutions.', 'Future Learn – Online courses to help learners study, build professional skills and connect with experts.', 'Icourses – Chinese language courses for university students.', 'TED-Ed Earth School – Online lessons about nature made available continuously during a 5-week period between Earth Day (April 22nd) and World Environment Day (June 5th).', 'Udemy – English, Spanish and Portuguese language courses on ICT skills and programming.', 'Self-directed learning content\\n\\nMobile reading applications\\n\\nCollaboration platforms that support live-video communication\\n\\nDingtalk – Communication platform that supports video conferencing, task and calendar management, attendance tracking and instant messaging.', 'Lark – Collaboration suite of interconnected tools, including chat, calendar, creation and cloud storage, in Japanese, Korean, Italian and English\\n\\nHangouts Meet – Video calls integrated with other Google’s G-Suite tools.', 'Teams – Chat, meet, call and collaboration features integrated with Microsoft Office software.', 'Skype – Video and audio calls with talk, chat and collaboration features.', 'WhatsApp – Video and audio calls, messaging and content sharing mobile application.', 'Zoom – Cloud platform for video and audio conferencing, collaboration, chat and webinars.', 'Tools for teachers to create of digital learning content\\n\\nThinglink – Tools to create interactive images, videos and other multimedia resources.', 'Buncee – Supports the creation and sharing visual representations of learning content, including media-rich lessons, reports, newsletters and presentations.', 'EdPuzzle – Video lesson creation software.', 'Kaltura – Video management and creation tools with integration options for various learning management systems.', 'Nearpod – Software to create lessons with informative and interactive assessment activities.', 'Pear Deck – Facilitates the design of engaging instructional content with various integration features.', 'Squigl – Content creation platform that transforms speech or text into animated videos.', 'Trello - A visual collaboration tool used by teachers and professors for easier coursework planning, faculty collaboration, and classroom organization.', 'External repositories of distance learning solutions']\n"
          ],
          "name": "stdout"
        }
      ]
    },
    {
      "cell_type": "code",
      "metadata": {
        "id": "8sP2lhS1PFTr",
        "colab_type": "code",
        "outputId": "a53abe41-013c-45b0-f9ad-ad7c3c42efb6",
        "colab": {
          "base_uri": "https://localhost:8080/",
          "height": 71
        }
      },
      "source": [
        "#Create a dictionary (key:value) pair to remove punctuations\n",
        "remove_punct_dict = dict( (ord(punct),None) for punct in string.punctuation)\n",
        "\n",
        "#Print the punctuations\n",
        "print(string.punctuation)\n",
        "\n",
        "print(remove_punct_dict)"
      ],
      "execution_count": 0,
      "outputs": [
        {
          "output_type": "stream",
          "text": [
            "!\"#$%&'()*+,-./:;<=>?@[\\]^_`{|}~\n",
            "{33: None, 34: None, 35: None, 36: None, 37: None, 38: None, 39: None, 40: None, 41: None, 42: None, 43: None, 44: None, 45: None, 46: None, 47: None, 58: None, 59: None, 60: None, 61: None, 62: None, 63: None, 64: None, 91: None, 92: None, 93: None, 94: None, 95: None, 96: None, 123: None, 124: None, 125: None, 126: None}\n"
          ],
          "name": "stdout"
        }
      ]
    },
    {
      "cell_type": "code",
      "metadata": {
        "id": "sBNvSI6ZR3LI",
        "colab_type": "code",
        "outputId": "b79b7653-8ac0-4115-d804-81ef900594b5",
        "colab": {
          "base_uri": "https://localhost:8080/",
          "height": 54
        }
      },
      "source": [
        "#Create a function to return lemmatized lowercase words after removing punctuations\n",
        "def LemNormalize(text):\n",
        "  return nltk.word_tokenize(text.lower().translate(remove_punct_dict))\n",
        "\n",
        "#Print the tokenization text\n",
        "print(LemNormalize(text))"
      ],
      "execution_count": 0,
      "outputs": [
        {
          "output_type": "stream",
          "text": [
            "['the', 'list', 'of', 'educational', 'applications', 'platforms', 'and', 'resources', 'below', 'aim', 'to', 'help', 'parents', 'teachers', 'schools', 'and', 'school', 'administrators', 'facilitate', 'student', 'learning', 'and', 'provide', 'social', 'care', 'and', 'interaction', 'during', 'periods', 'of', 'school', 'closure', 'most', 'of', 'the', 'solutions', 'curated', 'are', 'free', 'and', 'many', 'cater', 'to', 'multiple', 'languages', 'while', 'these', 'solutions', 'do', 'not', 'carry', 'unesco', '’', 's', 'explicit', 'endorsement', 'they', 'tend', 'to', 'have', 'a', 'wide', 'reach', 'a', 'strong', 'userbase', 'and', 'evidence', 'of', 'impact', 'they', 'are', 'categorized', 'based', 'on', 'distance', 'learning', 'needs', 'but', 'most', 'of', 'them', 'offer', 'functionalities', 'across', 'multiple', 'categories', 'resources', 'to', 'provide', 'psychosocial', 'support', 'digital', 'learning', 'management', 'systems', 'centurytech', '–', 'personal', 'learning', 'pathways', 'with', 'microlessons', 'to', 'address', 'gaps', 'in', 'knowledge', 'challenge', 'students', 'and', 'promote', 'longterm', 'memory', 'retention', 'classdojo', '–', 'connects', 'teachers', 'with', 'students', 'and', 'parents', 'to', 'build', 'classroom', 'communities', 'edmodo', '–', 'tools', 'and', 'resources', 'to', 'manage', 'classrooms', 'and', 'engage', 'students', 'remotely', 'offering', 'a', 'variety', 'of', 'languages', 'edraak', '–', 'arabic', 'language', 'online', 'education', 'with', 'resources', 'for', 'school', 'learners', 'and', 'teachers', 'ekstep', '–', 'open', 'learning', 'platform', 'with', 'a', 'collection', 'of', 'learning', 'resources', 'to', 'support', 'literacy', 'and', 'numeracy', 'google', 'classroom', '–', 'helps', 'classes', 'connect', 'remotely', 'communicate', 'and', 'stayorganized', 'moodle', '–', 'communitydriven', 'and', 'globallysupported', 'open', 'learning', 'platform', 'nafham', '–', 'arabic', 'language', 'online', 'learning', 'platform', 'hosting', 'educational', 'video', 'lessons', 'that', 'correspond', 'with', 'egyptian', 'and', 'syrian', 'curricula', 'paper', 'airplanes', '–', 'matches', 'individuals', 'with', 'personal', 'tutors', 'for', '1216', 'week', 'sessions', 'conducted', 'via', 'video', 'conferencing', 'platforms', 'available', 'in', 'english', 'and', 'turkish', 'schoology', '–', 'tools', 'to', 'support', 'instruction', 'learning', 'grading', 'collaboration', 'and', 'assessment', 'seesaw', '–', 'enables', 'the', 'creation', 'of', 'collaborative', 'and', 'sharable', 'digital', 'learning', 'portfolios', 'and', 'learning', 'resources', 'skooler', '–', 'tools', 'to', 'turn', 'microsoft', 'office', 'software', 'into', 'an', 'education', 'platform', 'systems', 'built', 'for', 'use', 'on', 'basic', 'mobile', 'phones', 'celled', '–', 'learnercentered', 'skillsbased', 'learning', 'platform', 'with', 'offline', 'options', 'eneza', 'education', 'revision', 'and', 'learning', 'materials', 'for', 'basic', 'feature', 'phones', 'funzi', '–', 'mobile', 'learning', 'service', 'that', 'supports', 'teaching', 'and', 'training', 'for', 'large', 'groups', 'kaios', '–', 'software', 'that', 'gives', 'smartphone', 'capabilities', 'to', 'inexpensive', 'mobile', 'phones', 'and', 'helps', 'open', 'portals', 'to', 'learning', 'opportunities', 'ubongo', '–', 'uses', 'entertainment', 'mass', 'media', 'and', 'the', 'connectivity', 'of', 'mobile', 'devices', 'to', 'deliver', 'localized', 'learning', 'to', 'african', 'families', 'at', 'low', 'cost', 'and', 'scaleavailable', 'in', 'kiswahili', 'and', 'english', 'ustad', 'mobile', '–', 'access', 'and', 'share', 'educational', 'content', 'offline', 'available', 'in', 'kiswahili', 'and', 'english', 'systems', 'with', 'strong', 'offline', 'functionality', 'kolibri', '–', 'learning', 'application', 'to', 'support', 'universal', 'education', 'available', 'in', 'more', 'than', '20', 'languages', 'rumie', '–', 'education', 'tools', 'and', 'content', 'to', 'enable', 'lifelong', 'learning', 'for', 'underserved', 'communities', 'ustad', 'mobile', '–', 'access', 'and', 'share', 'educational', 'content', 'offline', 'massive', 'open', 'online', 'course', 'mooc', 'platforms', 'alison', '–', 'online', 'courses', 'from', 'experts', 'available', 'in', 'english', 'french', 'spanish', 'italian', 'and', 'portuguese', 'canvas', 'network', '–', 'course', 'catalogue', 'accessible', 'for', 'free', 'for', 'teachers', 'in', 'order', 'to', 'support', 'lifelong', 'learning', 'and', 'professional', 'development', 'coursera', '–', 'online', 'courses', 'taught', 'by', 'instructors', 'from', 'wellrecognized', 'universities', 'and', 'companies', 'european', 'schoolnet', 'academy', '–', 'free', 'online', 'professional', 'development', 'courses', 'for', 'teachers', 'in', 'english', 'french', 'italian', 'and', 'other', 'european', 'languages', 'edx', '–', 'online', 'courses', 'from', 'leading', 'educational', 'institutions', 'future', 'learn', '–', 'online', 'courses', 'to', 'help', 'learners', 'study', 'build', 'professional', 'skills', 'and', 'connect', 'with', 'experts', 'icourses', '–', 'chinese', 'language', 'courses', 'for', 'university', 'students', 'teded', 'earth', 'school', '–', 'online', 'lessons', 'about', 'nature', 'made', 'available', 'continuously', 'during', 'a', '5week', 'period', 'between', 'earth', 'day', 'april', '22nd', 'and', 'world', 'environment', 'day', 'june', '5th', 'udemy', '–', 'english', 'spanish', 'and', 'portuguese', 'language', 'courses', 'on', 'ict', 'skills', 'and', 'programming', 'selfdirected', 'learning', 'content', 'mobile', 'reading', 'applications', 'collaboration', 'platforms', 'that', 'support', 'livevideo', 'communication', 'dingtalk', '–', 'communication', 'platform', 'that', 'supports', 'video', 'conferencing', 'task', 'and', 'calendar', 'management', 'attendance', 'tracking', 'and', 'instant', 'messaging', 'lark', '–', 'collaboration', 'suite', 'of', 'interconnected', 'tools', 'including', 'chat', 'calendar', 'creation', 'and', 'cloud', 'storage', 'in', 'japanese', 'korean', 'italian', 'and', 'english', 'hangouts', 'meet', '–', 'video', 'calls', 'integrated', 'with', 'other', 'google', '’', 's', 'gsuite', 'tools', 'teams', '–', 'chat', 'meet', 'call', 'and', 'collaboration', 'features', 'integrated', 'with', 'microsoft', 'office', 'software', 'skype', '–', 'video', 'and', 'audio', 'calls', 'with', 'talk', 'chat', 'and', 'collaboration', 'features', 'whatsapp', '–', 'video', 'and', 'audio', 'calls', 'messaging', 'and', 'content', 'sharing', 'mobile', 'application', 'zoom', '–', 'cloud', 'platform', 'for', 'video', 'and', 'audio', 'conferencing', 'collaboration', 'chat', 'and', 'webinars', 'tools', 'for', 'teachers', 'to', 'create', 'of', 'digital', 'learning', 'content', 'thinglink', '–', 'tools', 'to', 'create', 'interactive', 'images', 'videos', 'and', 'other', 'multimedia', 'resources', 'buncee', '–', 'supports', 'the', 'creation', 'and', 'sharing', 'visual', 'representations', 'of', 'learning', 'content', 'including', 'mediarich', 'lessons', 'reports', 'newsletters', 'and', 'presentations', 'edpuzzle', '–', 'video', 'lesson', 'creation', 'software', 'kaltura', '–', 'video', 'management', 'and', 'creation', 'tools', 'with', 'integration', 'options', 'for', 'various', 'learning', 'management', 'systems', 'nearpod', '–', 'software', 'to', 'create', 'lessons', 'with', 'informative', 'and', 'interactive', 'assessment', 'activities', 'pear', 'deck', '–', 'facilitates', 'the', 'design', 'of', 'engaging', 'instructional', 'content', 'with', 'various', 'integration', 'features', 'squigl', '–', 'content', 'creation', 'platform', 'that', 'transforms', 'speech', 'or', 'text', 'into', 'animated', 'videos', 'trello', 'a', 'visual', 'collaboration', 'tool', 'used', 'by', 'teachers', 'and', 'professors', 'for', 'easier', 'coursework', 'planning', 'faculty', 'collaboration', 'and', 'classroom', 'organization', 'external', 'repositories', 'of', 'distance', 'learning', 'solutions']\n"
          ],
          "name": "stdout"
        }
      ]
    },
    {
      "cell_type": "code",
      "metadata": {
        "id": "aYaMtl5mUJZL",
        "colab_type": "code",
        "colab": {}
      },
      "source": [
        "#Keyword matching\n",
        "\n",
        "#Greeting inputs\n",
        "GREETING_INPUTS = [\"hi\",\"hello\",\"hola\",\"wassup\",\"greetings\",\"hey\"]\n",
        "\n",
        "#Greeting responses back to the user\n",
        "GREETING_RESPONSES = [\"howdy\",\"hi\",\"hey\",\"what's good\",\"hello\",\"hey there\"]\n",
        "\n",
        "#Function to return random greeting responses to the users greeting\n",
        "def greeting(sentence):\n",
        "  #if user's input is a greeting, then return a randomly chosen greeting response\n",
        "  for word in sentence.split():\n",
        "    if word.lower() in GREETING_INPUTS:\n",
        "      return random.choice(GREETING_RESPONSES)"
      ],
      "execution_count": 0,
      "outputs": []
    },
    {
      "cell_type": "code",
      "metadata": {
        "id": "fVhKKi7wVzbI",
        "colab_type": "code",
        "colab": {}
      },
      "source": [
        "#Generate user response\n",
        " def response(user_response):\n",
        "\n",
        "  #The users response / query\n",
        "  #user_response = 'What are resourses to provide psychological support'\n",
        "\n",
        "  user_response = user_response.lower() #Make the response lower case\n",
        "\n",
        "  ###Print the users response\n",
        "  #print(user_response)\n",
        "\n",
        "  #Set the chatbot response to an empty string\n",
        "  robo_response = ''\n",
        "\n",
        "  #Append the users response to the sentence list\n",
        "  sent_tokens.append(user_response)\n",
        "\n",
        "  ###Print the sentence list after appending the users response\n",
        "  #print(sent_tokens)\n",
        "\n",
        "  #Create a Tfidf Vectorizer object\n",
        "  TfidfVec = TfidfVectorizer(tokenizer = LemNormalize, stop_words='english')\n",
        "\n",
        "  #Convert the text to a matrix of TF-IDF features\n",
        "  tfidf = TfidfVec.fit_transform(sent_tokens)\n",
        "\n",
        "  ###Print the TFIDF features \n",
        "  #print(tfidf)\n",
        "\n",
        "  #Get the measure of similarity (similarity scores)\n",
        "  vals = cosine_similarity(tfidf[-1], tfidf)\n",
        "\n",
        "  #Print the similarity scores\n",
        "  #print(vals)\n",
        "\n",
        "  #Get the index of most similar text/sentence to the users response\n",
        "  idx = vals.argsort()[0][-2]\n",
        "\n",
        "  #Reduce dimensionality of vals\n",
        "  flat = vals.flatten()\n",
        "\n",
        "  #Sort the list in ascending order\n",
        "  flat.sort()\n",
        "\n",
        "  #Get the most similar score to the users response\n",
        "  score = flat[-2]\n",
        "\n",
        "  #Print the similarity score\n",
        "  #print(score)\n",
        "\n",
        "  #If the variable 'score' is 0 then there is no text similar to users response\n",
        "  if(score == 0):\n",
        "    robo_response = robo_response+\"I apologise, I don't understand.\"\n",
        "  else:\n",
        "    robo_response = robo_response+sent_tokens[idx]\n",
        "\n",
        "  #Print the chat bot response\n",
        "  #print(robo_response)\n",
        "\n",
        "  #Remove user response from sentence tokens list\n",
        "  sent_tokens.remove(user_response)\n",
        "\n",
        "  return robo_response"
      ],
      "execution_count": 0,
      "outputs": []
    },
    {
      "cell_type": "code",
      "metadata": {
        "id": "cs3ubtsT0NIy",
        "colab_type": "code",
        "outputId": "4b73259c-9eb6-44a6-a12f-2de9e9bcbf38",
        "colab": {
          "base_uri": "https://localhost:8080/",
          "height": 238
        }
      },
      "source": [
        "flag = True\n",
        "print(\"EDUBot: I am Education Bot or EDUBot for short. I will answer your queries about Distance Learning Solutions. If you want to exit, type Bye!\")\n",
        "while(flag == True):\n",
        "  user_response = input()\n",
        "  user_response = user_response.lower()\n",
        "  if(user_response != 'bye'):\n",
        "    if(user_response == 'thanks' or user_response == 'thank you'):\n",
        "      print(\"EDUBot: You are welcome\")\n",
        "    else:\n",
        "      if(greeting(user_response) != None):\n",
        "        print(\"EDUBot: \"+greeting(user_response))\n",
        "      else:\n",
        "        print(\"EDUBot: \"+response(user_response))\n",
        "  else:\n",
        "    flag = False\n",
        "    print(\"EDUBot: Chat with you later\")"
      ],
      "execution_count": 0,
      "outputs": [
        {
          "output_type": "stream",
          "text": [
            "EDUBot: I am Education Bot or EDUBot for short. I will answer your queries about Distance Learning Solutions. If you want to exit, type Bye!\n",
            "hi\n",
            "EDUBot: howdy\n",
            "what systems to use on basic mobile phones ?\n",
            "EDUBot: Systems built for use on basic mobile phones\n",
            "\n",
            "Cell-Ed – Learner-centered, skills-based learning platform with offline options.\n",
            "Who is Beyonce ?\n",
            "EDUBot: I apologise, I don't understand.\n",
            "Thanks\n",
            "EDUBot: You are welcome\n",
            "bye\n",
            "EDUBot: Chat with you later\n"
          ],
          "name": "stdout"
        }
      ]
    }
  ]
}